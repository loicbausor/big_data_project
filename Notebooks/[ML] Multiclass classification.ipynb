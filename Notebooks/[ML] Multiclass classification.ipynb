{
 "cells": [
  {
   "cell_type": "markdown",
   "id": "ed6ff9c3",
   "metadata": {},
   "source": [
    "# ML : Tag classification\n",
    "\n",
    "For this last part we wanted to do some Multilabel classification of the tags based on the text of each questions.\n",
    "The constraint was to use :\n",
    "1. `pyspark.ml` library\n",
    "2. `pyspark.mllib` library\n",
    "3. A third party library in a spark pipeline\n",
    "\n",
    "We have been disapointed to learn that pyspark ml and mllib had multi label classification implementation for its algorithm.\n",
    "Indeed those one can do multi class classification but not multi label. A way to go by this issue would have been to use a string indexer to transform our multlabel into problem one :\n",
    "Example: if we have three classes $A,B,C$, the stringindexer creates new classes $AB,BC,AC,ABC$, so the model just becomes single label multiclass pb..\n",
    "There are several problem this method : \n",
    "- Dimensionnality : we have a lot more than three tags in the sample. It would have been tramendous computations for really poor results\n",
    "- A tramendous loose of in information, we would a have lost a part of the label correlation.\n",
    "\n",
    "After some computation expensive non concluent tests we decided that we will do only multiclass classification on the 10 most used tags (which is often the language associated to the post as we already noticed).\n",
    "\n",
    "\n",
    "We deciced to only use **20%** of our sample (approx 400 000 rows). Indeed we suffered of of memory overload while fitting our models. "
   ]
  },
  {
   "cell_type": "markdown",
   "id": "02ed3524",
   "metadata": {},
   "source": [
    "#### Imports"
   ]
  },
  {
   "cell_type": "code",
   "execution_count": 1,
   "id": "8602916a",
   "metadata": {},
   "outputs": [],
   "source": [
    "import os\n",
    "os.chdir(os.environ['HOME'])\n",
    "\n",
    "import stack_overflow_functions.DataLoader as data_loader\n",
    "import stack_overflow_functions.DataTransformation as data_transfo\n",
    "from stack_overflow_functions.MulticlassEvaluation import evaluation_metrics\n",
    "from pycountry_convert import country_name_to_country_alpha3\n",
    "from pyspark.sql import SparkSession\n",
    "from pyspark.sql import SparkSession\n",
    "import patoolib\n",
    "import gdown\n",
    "\n",
    "\n",
    "# Import Spark \n",
    "from sparknlp.base import *\n",
    "from sparknlp.annotator import *\n",
    "from pyspark.sql.types import StructField, StructType, StringType, ArrayType, IntegerType, FloatType\n",
    "from pyspark.ml.tuning import ParamGridBuilder, TrainValidationSplit\n",
    "from pyspark.mllib.evaluation import MulticlassMetrics\n",
    "from sklearn.model_selection import ParameterGrid\n",
    "from pyspark import StorageLevel\n",
    "\n",
    "import pyspark\n",
    "import sparknlp\n",
    "from pyspark.sql.window import Window\n",
    "import pyspark.sql.functions as F\n",
    "import pandas as pd\n",
    "import geopandas as gpd \n",
    "import matplotlib.pyplot as plt\n",
    "import seaborn as sns\n",
    "import json\n",
    "import re\n",
    "\n",
    "from pyspark.ml import Pipeline\n",
    "from pyspark.ml.classification import LogisticRegression\n",
    "import pyspark.ml.feature as sf\n",
    "from pyspark.ml.evaluation import MulticlassClassificationEvaluator\n",
    "from pyspark.ml.tuning import CrossValidator\n",
    "\n",
    "seed = 2020"
   ]
  },
  {
   "cell_type": "code",
   "execution_count": 2,
   "id": "7ccea40c",
   "metadata": {},
   "outputs": [],
   "source": [
    "spark = sparknlp.start()\n",
    "conf = (pyspark\n",
    "        .SparkConf()\n",
    "        .set(\"spark.ui.showConsoleProgress\", \"true\")\n",
    "       )\n",
    "sc = pyspark.SparkContext.getOrCreate(conf=conf)\n",
    "sqlcontext = pyspark.SQLContext(sc)"
   ]
  },
  {
   "cell_type": "code",
   "execution_count": 3,
   "id": "bfb224c8",
   "metadata": {},
   "outputs": [
    {
     "name": "stdout",
     "output_type": "stream",
     "text": [
      "All the data folder already exists, we infer that you have already downloaded or extracted the data. If it is not the case delete the data folder (Data/sample) and re run this function.\n"
     ]
    },
    {
     "data": {
      "text/plain": [
       "'Done, data can be found at /home/loic/Data/sample.'"
      ]
     },
     "execution_count": 3,
     "metadata": {},
     "output_type": "execute_result"
    }
   ],
   "source": [
    "data_loader.download_data()"
   ]
  },
  {
   "cell_type": "markdown",
   "id": "96a137ef",
   "metadata": {},
   "source": [
    "### Clean the data\n",
    "We use a similar Pipeline that for our feature/target analysis in order to perform ML on it. It was a choice of us to not put it into a module and call it to be clearer on the steps we have done. \n",
    "It is also a choice that we do not include those steps in the ML since they are computionnaly costly and unlikely to changed. \n",
    "\n",
    "#### Reads the data"
   ]
  },
  {
   "cell_type": "code",
   "execution_count": 4,
   "id": "7c8aa7ff",
   "metadata": {},
   "outputs": [
    {
     "name": "stdout",
     "output_type": "stream",
     "text": [
      "CPU times: user 20 ms, sys: 2.34 ms, total: 22.4 ms\n",
      "Wall time: 1min 5s\n"
     ]
    }
   ],
   "source": [
    "%%time\n",
    "post_dir = \"Data/sample/Posts\"\n",
    "posts = (sqlcontext\n",
    "         .read\n",
    "         .format(\"parquet\")\n",
    "         .option(\"header\",True)\n",
    "         .load(post_dir)\n",
    "         .sample(False, 0.2, seed)\n",
    "         .select(\"Id\",\n",
    "                  F.concat_ws(' ',F.col('Title'),F.col('Body')).alias(\"full_text\"),\n",
    "                  \"Tags\"\n",
    "                )\n",
    "        )"
   ]
  },
  {
   "cell_type": "markdown",
   "id": "6a9db20d",
   "metadata": {},
   "source": [
    "#### Splits tags"
   ]
  },
  {
   "cell_type": "code",
   "execution_count": 5,
   "id": "fb753195",
   "metadata": {},
   "outputs": [],
   "source": [
    "tags_split =tags_split = F.regexp_replace( F.regexp_replace(\n",
    "    F.regexp_replace(F.col('Tags'), '&lt;', ''), \"&gt;\", \"<split_token>\"), \" \", \"\")\n",
    "\n",
    "udf_drop = F.udf(lambda x: re.sub(\"'\",\"\",str(x[:-1])[1:-1]) if isinstance(x,list) else None,StringType())\n",
    "\n",
    "posts = (\n",
    "    posts\n",
    "    .withColumn('Splitted_tags', tags_split)\n",
    "    .withColumn('Splitted_tags', F.split(F.col(\"Splitted_tags\"), \"<split_token>\"))\n",
    "    .withColumn('Splitted_tags', udf_drop(F.col(\"Splitted_tags\")))\n",
    "    .withColumn('Splitted_tags', F.split(F.col(\"Splitted_tags\"),\",\"))\n",
    "    .drop('Tags')\n",
    ")"
   ]
  },
  {
   "cell_type": "markdown",
   "id": "5008bacf",
   "metadata": {},
   "source": [
    "#### Clean text"
   ]
  },
  {
   "cell_type": "code",
   "execution_count": 6,
   "id": "e00ac7c6",
   "metadata": {},
   "outputs": [
    {
     "name": "stdout",
     "output_type": "stream",
     "text": [
      "stopwords_en download started this may take some time.\n",
      "Approximate size to download 2.9 KB\n",
      "[OK!]\n"
     ]
    }
   ],
   "source": [
    "input_col = \"full_text\"\n",
    "clean_up_patterns = [\n",
    "                    \"p&gt;\"\n",
    "                    ,\"&.*?;\\space\"\n",
    "                    ,'&.*?;'                \n",
    "                    ,\"/.*?;\"\n",
    "                    ,\"/code\"\n",
    "                    ,\"/pre\"\n",
    "                    ,'/p'\n",
    "                    ,\"/a\"\n",
    "                    ,\"href=\"\n",
    "                    ,\"lt;\"\n",
    "                    ,\"gt;\"\n",
    "                    ,\"[^\\w\\s]\"\n",
    "                    ,r\"\\b\\d+\\b\"\n",
    "                  ]\n",
    "\n",
    "\n",
    "# Document assembler : Tokenize our text\n",
    "documentAssembler = DocumentAssembler() \\\n",
    "    .setInputCol(input_col) \\\n",
    "    .setOutputCol('_intermediate_results')\n",
    "\n",
    "# Document normalizer : Normalize the document\n",
    "# by lowercasing, removing non utf8 chars\n",
    "# and remove regex oattern defined\n",
    "doc_norm = DocumentNormalizer() \\\n",
    "    .setInputCols(\"_intermediate_results\") \\\n",
    "    .setOutputCol(input_col + \"_cleaned\") \\\n",
    "    .setAction(\"clean\") \\\n",
    "    .setPatterns(clean_up_patterns) \\\n",
    "    .setReplacement(\" \") \\\n",
    "    .setPolicy(\"pretty_all\") \\\n",
    "    .setLowercase(True)\n",
    "\n",
    "# Document tokenizer : allows to remove\n",
    "# undesired tokens (punctuations etc.)\n",
    "# prepare the colums for the stopwords \n",
    "# remover\n",
    "tokenizer = Tokenizer() \\\n",
    "    .setInputCols([input_col + \"_cleaned\"]) \\\n",
    "    .setOutputCol(\"token\") \\\n",
    "    .setSplitChars(['-']) \\\n",
    "    .setContextChars(['(', ')', '?', '!']) \\\n",
    "    .setSplitPattern(\"'\") \\\n",
    "    .setMaxLength(0) \\\n",
    "    .setMaxLength(99999) \\\n",
    "    .setCaseSensitiveExceptions(False)\n",
    "\n",
    "\n",
    "# StopWordsCleaner : remove \n",
    "# the stopwords based on\n",
    "# a predifined list\n",
    "Stop_words_cleaner = (\n",
    "    StopWordsCleaner()\n",
    "    .pretrained(\"stopwords_en\", \"en\")\n",
    "    .setInputCols([\"token\"])\n",
    "    .setOutputCol(input_col + \"_without_stopwords\") \n",
    "    .setCaseSensitive(False) \n",
    "    .setLazyAnnotator(False)\n",
    ")\n",
    "\n",
    "# Lemmatize the text \n",
    "# thanks to the lemmatizing tab\n",
    "# defined above\n",
    "Lemmatizer_cleaner = (\n",
    "    Lemmatizer() \n",
    "    .setInputCols([input_col + \"_without_stopwords\"]) \n",
    "    .setOutputCol(input_col + \"_lemmatized\") \n",
    "    .setDictionary(\"./Data/lemmatizer/AntBNC_lemmas_ver_001.txt\", value_delimiter =\"\\t\", key_delimiter = \"->\") \n",
    "    .setLazyAnnotator(False)\n",
    ")\n",
    "\n",
    "\n",
    "# Creates thepipeline\n",
    "cleaning_pipeline = (\n",
    "    Pipeline() \n",
    "    .setStages([\n",
    "        documentAssembler,\n",
    "        doc_norm,\n",
    "        tokenizer,\n",
    "        #Document_cleaner,\n",
    "        Stop_words_cleaner,\n",
    "        Lemmatizer_cleaner])\n",
    ")\n",
    "\n",
    "\n",
    "posts_ml = (\n",
    "    cleaning_pipeline\n",
    "    .fit(posts)\n",
    "    .transform(posts)\n",
    "    .select(F.col(\"Id\"),\n",
    "            F.col(input_col),\n",
    "            F.col(input_col + \"_lemmatized.result\"),\n",
    "            F.col(\"Splitted_tags\")\n",
    "           )\n",
    ") "
   ]
  },
  {
   "cell_type": "markdown",
   "id": "ce6eb485",
   "metadata": {},
   "source": [
    "#### Choose only the 10 most used tags and create a label column"
   ]
  },
  {
   "cell_type": "code",
   "execution_count": 7,
   "id": "e248ace0",
   "metadata": {},
   "outputs": [],
   "source": [
    "top = 10\n",
    "tags = (posts_ml\n",
    "        .select(F.explode('Splitted_tags').alias(\"tags\"))\n",
    "        .select(F.trim(\"tags\").alias(\"tags\"))\n",
    "        .groupBy('tags')\n",
    "        .count()\n",
    "       ).toPandas()\n",
    "\n",
    "top = 10\n",
    "top10 = tags.sort_values(by =\"count\",ascending = False).head(top).tags.tolist()\n",
    "\n",
    "posts_ml = (\n",
    "    posts_ml\n",
    "    .withColumn('language_deduced',\n",
    "                data_transfo.udf_detect_language(top10)(F.col('Splitted_tags'))))"
   ]
  },
  {
   "cell_type": "markdown",
   "id": "d9fa94e6",
   "metadata": {},
   "source": [
    "#### Creates our final set and save the training set for our scripts"
   ]
  },
  {
   "cell_type": "code",
   "execution_count": 8,
   "id": "8783b2c7",
   "metadata": {},
   "outputs": [],
   "source": [
    "posts_multi_class = (posts_ml\n",
    "                     .select(F.col('result').alias(\"text\"),\n",
    "                            data_transfo.udf_detect_language(top10)(F.col('Splitted_tags')).alias(\"first_label\"))\n",
    "                     .where(F.col('first_label').isNotNull())\n",
    "                    )"
   ]
  },
  {
   "cell_type": "code",
   "execution_count": 9,
   "id": "b2bbf139",
   "metadata": {},
   "outputs": [
    {
     "data": {
      "text/plain": [
       "DataFrame[text: array<string>, first_label: string]"
      ]
     },
     "execution_count": 9,
     "metadata": {},
     "output_type": "execute_result"
    }
   ],
   "source": [
    "path_to_data = \"train/training_sample\"\n",
    "train_split, test_split = posts_multi_class.randomSplit(weights=[0.80, 0.20], seed=seed)\n",
    "if not os.path.exists(path_to_data): \n",
    "    train_split.write.parquet(path_to_data)\n",
    "\n",
    "train_split.persist(StorageLevel.MEMORY_AND_DISK)\n",
    "test_split.persist(StorageLevel.MEMORY_AND_DISK)"
   ]
  },
  {
   "cell_type": "markdown",
   "id": "d4df4615",
   "metadata": {},
   "source": [
    "###  `pyspark.ml` pipeline \n",
    "\n",
    "In the train folder you will find a a script named `train_lr.py` this scripts creates a `pyspark.ml` composed of a : \n",
    "- A tf transformer\n",
    "- An idf transformer\n",
    "- A label encoder \n",
    "- A regularized logistic regression\n",
    "\n",
    "On this pipeline we test with a grid search (on 4 fold cross validation) the following parameters : \n",
    "- \"TF IDF Vocabulary size\" : [10, 100, 1000, 2500] \n",
    "- \"Logistic regression L2 penalization : \" [0.1, 0.01, 0.001]\n",
    "\n",
    "We take the best score according to the F1 weighted measure among classes.\n",
    "The best fitted pipeline has been saved in `/train/models/ml_lr`\n",
    "\n",
    "You can reproduce this output (if you have time) by running this script using the jupyter command line (**be aware that it is  memory expensive**).\n",
    "```shell\n",
    "cd train\n",
    "python3 -m train_lr\n",
    "```\n",
    "\n",
    "**We will analyze the result of this pipeline on the test set**"
   ]
  },
  {
   "cell_type": "code",
   "execution_count": 12,
   "id": "288ff282",
   "metadata": {},
   "outputs": [],
   "source": [
    "pipe = PipelineModel.load('train/models/lr/ml_lr')"
   ]
  },
  {
   "cell_type": "markdown",
   "id": "941402c4",
   "metadata": {},
   "source": [
    "We want to get the values of the parameters of the best selected model. \n",
    "We retrieve the vocabulary size and the penalisation. "
   ]
  },
  {
   "cell_type": "code",
   "execution_count": 116,
   "id": "bc39c01c",
   "metadata": {},
   "outputs": [],
   "source": [
    "param_dict = pipe.stages[0].extractParamMap()\n",
    "sane_dict = {}\n",
    "for k, v in param_dict.items():\n",
    "    sane_dict[k.name] = v\n",
    "\n",
    "best_size = sane_dict[\"vocabSize\"]"
   ]
  },
  {
   "cell_type": "code",
   "execution_count": 115,
   "id": "f9fc4cc7",
   "metadata": {},
   "outputs": [],
   "source": [
    "param_dict = pipe.stages[-1].extractParamMap()\n",
    "sane_dict = {}\n",
    "for k, v in param_dict.items():\n",
    "    sane_dict[k.name] = v\n",
    "\n",
    "best_reg = sane_dict[\"regParam\"]"
   ]
  },
  {
   "cell_type": "code",
   "execution_count": 117,
   "id": "52533017",
   "metadata": {
    "scrolled": true
   },
   "outputs": [
    {
     "name": "stdout",
     "output_type": "stream",
     "text": [
      "Best penalisation : 0.001\n",
      "Best vocabulary size : 2500\n"
     ]
    }
   ],
   "source": [
    "print('Best penalisation : {}'.format(best_reg))\n",
    "print('Best vocabulary size : {}'.format(best_size))"
   ]
  },
  {
   "cell_type": "markdown",
   "id": "8ef5208e",
   "metadata": {},
   "source": [
    "As we can see, the best regularization is the lowest and the best vocabulary size is the highest possible. According to this values, we could have gone further and put a larger vocabulary size with a smaller penalisation. "
   ]
  },
  {
   "cell_type": "code",
   "execution_count": 59,
   "id": "01f9074f",
   "metadata": {},
   "outputs": [],
   "source": [
    "from pyspark.mllib.evaluation import MulticlassMetrics\n",
    "preds_test = pipe.transform(test_split)\n",
    "\n",
    "# Compute raw scores on the test set\n",
    "predictionAndLabels = preds_test.rdd.map(lambda lp: (float(lp.prediction), lp.label))\n",
    "labels = preds_test.rdd.map(lambda lp: lp.label).distinct().collect()\n",
    "\n",
    "metrics_results, global_metrics, confusion_matrix = evaluation_metrics(predictionAndLabels, labels)"
   ]
  },
  {
   "cell_type": "code",
   "execution_count": 41,
   "id": "c62bbb60",
   "metadata": {
    "scrolled": true
   },
   "outputs": [
    {
     "data": {
      "image/png": "[encoded data removed]",
      "text/plain": [
       "<Figure size 720x360 with 2 Axes>"
      ]
     },
     "metadata": {
      "needs_background": "light"
     },
     "output_type": "display_data"
    }
   ],
   "source": [
    "plt.figure(figsize=(10, 5))\n",
    "sns.heatmap(confusion_matrix,annot=True,cmap=\"viridis\", fmt='g');\n",
    "plt.ylabel('True label');\n",
    "plt.xlabel('Predicted label');\n",
    "plt.title('Confusion matrix') ;"
   ]
  },
  {
   "cell_type": "markdown",
   "id": "a017d3f8",
   "metadata": {},
   "source": [
    "As we saw in a previous notebook, the data are very imbalanced: there are only few css, c++ and jquery (less than 2000) this can explain a poor prediction on them. Despite this observation, we see a clear diagonal of correct predictions. \n",
    "\n",
    "The prediction seems to have been doing pretty well. We want to confirm this idea by computing different scores per label: "
   ]
  },
  {
   "cell_type": "code",
   "execution_count": 61,
   "id": "ffc972e8",
   "metadata": {},
   "outputs": [
    {
     "data": {
      "text/html": [
       "<div>\n",
       "<style scoped>\n",
       "    .dataframe tbody tr th:only-of-type {\n",
       "        vertical-align: middle;\n",
       "    }\n",
       "\n",
       "    .dataframe tbody tr th {\n",
       "        vertical-align: top;\n",
       "    }\n",
       "\n",
       "    .dataframe thead th {\n",
       "        text-align: right;\n",
       "    }\n",
       "</style>\n",
       "<table border=\"1\" class=\"dataframe\">\n",
       "  <thead>\n",
       "    <tr style=\"text-align: right;\">\n",
       "      <th></th>\n",
       "      <th>Languages</th>\n",
       "      <th>Precision</th>\n",
       "      <th>Recall</th>\n",
       "      <th>F1</th>\n",
       "    </tr>\n",
       "  </thead>\n",
       "  <tbody>\n",
       "    <tr>\n",
       "      <th>0</th>\n",
       "      <td>javascript</td>\n",
       "      <td>0.732170</td>\n",
       "      <td>0.813892</td>\n",
       "      <td>0.770871</td>\n",
       "    </tr>\n",
       "    <tr>\n",
       "      <th>1</th>\n",
       "      <td>java</td>\n",
       "      <td>0.720242</td>\n",
       "      <td>0.742622</td>\n",
       "      <td>0.731261</td>\n",
       "    </tr>\n",
       "    <tr>\n",
       "      <th>2</th>\n",
       "      <td>python</td>\n",
       "      <td>0.876579</td>\n",
       "      <td>0.920395</td>\n",
       "      <td>0.897953</td>\n",
       "    </tr>\n",
       "    <tr>\n",
       "      <th>3</th>\n",
       "      <td>c#</td>\n",
       "      <td>0.803915</td>\n",
       "      <td>0.782313</td>\n",
       "      <td>0.792967</td>\n",
       "    </tr>\n",
       "    <tr>\n",
       "      <th>4</th>\n",
       "      <td>php</td>\n",
       "      <td>0.816283</td>\n",
       "      <td>0.834698</td>\n",
       "      <td>0.825387</td>\n",
       "    </tr>\n",
       "    <tr>\n",
       "      <th>5</th>\n",
       "      <td>android</td>\n",
       "      <td>0.706783</td>\n",
       "      <td>0.709370</td>\n",
       "      <td>0.708075</td>\n",
       "    </tr>\n",
       "    <tr>\n",
       "      <th>6</th>\n",
       "      <td>html</td>\n",
       "      <td>0.862129</td>\n",
       "      <td>0.743696</td>\n",
       "      <td>0.798545</td>\n",
       "    </tr>\n",
       "    <tr>\n",
       "      <th>7</th>\n",
       "      <td>jquery</td>\n",
       "      <td>0.552739</td>\n",
       "      <td>0.419615</td>\n",
       "      <td>0.477064</td>\n",
       "    </tr>\n",
       "    <tr>\n",
       "      <th>8</th>\n",
       "      <td>c++</td>\n",
       "      <td>0.500952</td>\n",
       "      <td>0.360274</td>\n",
       "      <td>0.419124</td>\n",
       "    </tr>\n",
       "    <tr>\n",
       "      <th>9</th>\n",
       "      <td>css</td>\n",
       "      <td>0.328125</td>\n",
       "      <td>0.201370</td>\n",
       "      <td>0.249576</td>\n",
       "    </tr>\n",
       "  </tbody>\n",
       "</table>\n",
       "</div>"
      ],
      "text/plain": [
       "    Languages  Precision    Recall        F1\n",
       "0  javascript   0.732170  0.813892  0.770871\n",
       "1        java   0.720242  0.742622  0.731261\n",
       "2      python   0.876579  0.920395  0.897953\n",
       "3          c#   0.803915  0.782313  0.792967\n",
       "4         php   0.816283  0.834698  0.825387\n",
       "5     android   0.706783  0.709370  0.708075\n",
       "6        html   0.862129  0.743696  0.798545\n",
       "7      jquery   0.552739  0.419615  0.477064\n",
       "8         c++   0.500952  0.360274  0.419124\n",
       "9         css   0.328125  0.201370  0.249576"
      ]
     },
     "execution_count": 61,
     "metadata": {},
     "output_type": "execute_result"
    }
   ],
   "source": [
    "metrics_results.insert(0, \"Languages\", top10, True)\n",
    "metrics_results = metrics_results.drop('Label',axis=1)\n",
    "metrics_results"
   ]
  },
  {
   "cell_type": "markdown",
   "id": "b0f4d04d",
   "metadata": {},
   "source": [
    "We computed the **precision** in order to get how accurate is the prediction of each label.\n",
    "$$Precision = \\frac{TP}{TP + FP}$$\n",
    "* The most accurate labellings are the one made on one of the 8 most used taggs : their precision is higher than 70%\n",
    "* The most precise prediction language is Python with a precision of nearly 86%\n",
    "* The less precise one is CSS : only 33% of accuracy\n",
    "\n",
    "We also computed the **recall** to see, for each label, how many of the actual label the model captures by predicting this label.  \n",
    "$$Recall = \\frac{TP}{TP+FN}$$\n",
    "* We notice similar result with recall : the 8 most used tagged are pretty weel captured (more than 70%) by the predicted respective taggs.\n",
    "* Again, CSS has a really low recall score\n",
    "* Among the predicted Python, 92% are correctly predicted\n",
    "\n",
    "We finally get the **f1 score** which seeks a balance between recall and precision. \n",
    "$$F1 = 2 \\times \\frac{precision \\times recall}{precision + recall}$$\n",
    "\n",
    "* The F1-score gives us the same intuition as the recall and precision, with a majority of our languages being very accurately predicted, and CSS being poorly accurate. \n",
    "\n",
    "We can explain the high score by supposing that these languages have their own distinct vocabulary with which the algorithm easily discriminate. \n",
    "\n",
    "For CSS, we think that its poor score is due to our processing : there are probably html commands that have been removed and that would have been usefull to the prediction. Moreover, we can see on the confusion matrix that CSS is most of the time confused with jquery and javascript, as the three of them are web languages, they probably share some vocabulary and be less distincts. \n",
    "\n",
    "In order to have an overall score we compute the followings: "
   ]
  },
  {
   "cell_type": "code",
   "execution_count": 49,
   "id": "c0339d91",
   "metadata": {},
   "outputs": [
    {
     "name": "stdout",
     "output_type": "stream",
     "text": [
      "Weighted precision : 0.7555940323200225\n",
      "Weighted recall : 0.7618926716676283\n",
      "Weighted F1 measure : 0.7569377364030256\n"
     ]
    }
   ],
   "source": [
    "print('Weighted precision : {}'.format(global_metrics['weightedPrecision']))\n",
    "print('Weighted recall : {}'.format(global_metrics['weightedRecall']))\n",
    "print('Weighted F1 measure : {}'.format(global_metrics['weightedFMeasure']))"
   ]
  },
  {
   "cell_type": "markdown",
   "id": "23c92d8b",
   "metadata": {},
   "source": [
    "We also retrieve the weighted recall, weighted precision and weighted F1 measure. Each of them is computed by the formula above : \n",
    "\n",
    "$$Weighted\\_score = \\sum_{l \\in L}{p(l) \\times score(l)}$$\n",
    "\n",
    "where ***p(l)*** is the proportion of actual labels ***l*** in the data.\n",
    "\n",
    "We get **really satisfying scores** : all of them are higher than **75%** !! "
   ]
  },
  {
   "cell_type": "markdown",
   "id": "c5f71bdf",
   "metadata": {},
   "source": [
    "### `pyspark.mlib` algorithm\n",
    "For this algorithm, we did not go as far as pyspark ml.\n",
    "Our pseudo pipeline is the following : \n",
    "- Transform our df into RDD\n",
    "- Create a label encoder similar to the pyspark.ml string indexer\n",
    "- Encode our string into tf idf \n",
    "- Use a DecisionTree model in order to classify our languages\n",
    "\n",
    "We tried different values of maxDepth maxBins in order to find the best weighted F1 score on our test set. Indeed pyspark mllib has no cross validation methods and we did not want to implement such a thing (as it is present in ML library). We do know that it is not a robust method to find hyperparameters (it can possibly overfit the test set). Those chunks are here to show you we can use `pyspark.mllib` API.\n"
   ]
  },
  {
   "cell_type": "code",
   "execution_count": null,
   "id": "5b204477",
   "metadata": {},
   "outputs": [],
   "source": [
    "from pyspark.mllib.regression import LabeledPoint\n",
    "from pyspark.mllib.feature import HashingTF,IDF\n",
    "from pyspark.mllib.tree import DecisionTree, DecisionTreeModel\n",
    "\n",
    "train_split_RDD = train_split.rdd.map(tuple)\n",
    "test_split_RDD = test_split.rdd.map(tuple)\n",
    "\n",
    "# Matching int: label feature\n",
    "dic = train_split_RDD.map(lambda x: x[1]).distinct().zipWithIndex().collect()\n",
    "dic = dict(dic)\n",
    "\n",
    "train_split_RDD = train_split_RDD.map(lambda x: (dic[x[1]], \" \".join(x[0])))\n",
    "test_split_RDD = test_split_RDD.map(lambda x: (dic[x[1]], \" \".join(x[0])))"
   ]
  },
  {
   "cell_type": "code",
   "execution_count": null,
   "id": "e4d45e6e",
   "metadata": {},
   "outputs": [],
   "source": [
    "numFeatures = 1000\n",
    "labels_train = train_split_RDD.map(lambda x: x[0])\n",
    "labels_test = test_split_RDD.map(lambda x: x[0])\n",
    "\n",
    "tf_train = HashingTF(numFeatures=numFeatures).transform(train_split_RDD.map(lambda x: x[1]))\n",
    "tf_test =  HashingTF(numFeatures=numFeatures).transform(test_split_RDD.map(lambda x: x[1]))\n",
    "idf = IDF().fit(tf_train)\n",
    "tfidf_train = idf.transform(tf_train)\n",
    "tfidf_test = idf.transform(tf_test)\n",
    "\n",
    "# Combine using zip\n",
    "train_tf_idf = labels_train.zip(tfidf_train).map(lambda x: LabeledPoint(x[0], x[1]))\n",
    "test_tf_idf = labels_test.zip(tfidf_test).map(lambda x: LabeledPoint(x[0], x[1]))"
   ]
  },
  {
   "cell_type": "code",
   "execution_count": null,
   "id": "9e070531",
   "metadata": {},
   "outputs": [],
   "source": [
    "def evaluate_dt(train_data, test_data, labels_test, maxDepth_value=32, maxBins_value=64):\n",
    "    \"\"\"\n",
    "    Evaluates (Weighted f1 measure) the decision tree on the test set for given params\n",
    "    returns:\n",
    "        results (list): Composed of maxDepth_value, maxBins_value, and the weighted f measure\n",
    "    \"\"\"\n",
    "    modelDT = DecisionTree.trainClassifier(train_data, numClasses=10,\n",
    "                                           categoricalFeaturesInfo={},\n",
    "                                           impurity='entropy', # or 'gini'\n",
    "                                           maxDepth=maxDepth_value,\n",
    "                                           maxBins=maxBins_value)\n",
    "    predictionsAndLabels = labels_test.zip(model.predict(test_data)).map(lambda x:(x[0], float(x[1])))\n",
    "    metrics = MulticlassMetrics(predictionsAndLabels)\n",
    "    return [maxDepth_value, maxBins_value, metrics.weightedFMeasure()]\n",
    "\n",
    "# maxBins tuning with constant maxDepth\n",
    "maxBinsParams = [16, 32, 64, 128]\n",
    "maxDepthParams = [5, 10, 15, 20]\n",
    "hyper_grid = ParameterGrid({'maxDepth_value': maxDepthParams,\n",
    "              'maxBins_value': maxBinsParams})\n",
    "\n",
    "metrics_maxBins = [evaluate_dt(train_tf_idf, test_tf_idf, param['maxDepth_value'], param['maxBins_value']) \n",
    "                   for param in hyper_grid]"
   ]
  },
  {
   "cell_type": "markdown",
   "id": "07d50761",
   "metadata": {},
   "source": [
    "###  Pyspark/Keras pipeline \n",
    "\n",
    "In the train folder you will find a a script named `train_nn.py` this scripts creates a trains a neural network on the 1000 higher tf idf of the corpus for 10 epochs (we wanted to increase those numbers but we were limited by CPU and overall computation power).  \n",
    "\n",
    "The keras code of this network is :\n",
    "```python\n",
    "model = Sequential()\n",
    "model.add(Dense(256, input_shape=(input_dim,)))\n",
    "model.add(Activation('relu'))\n",
    "model.add(BatchNormalization())\n",
    "model.add(Dropout(0.3))\n",
    "model.add(Dense(256))\n",
    "model.add(Activation('relu'))\n",
    "model.add(BatchNormalization())\n",
    "model.add(Dropout(0.3))\n",
    "model.add(Dense(10))\n",
    "model.add(Activation('softmax'))\n",
    "model.compile(loss='categorical_crossentropy', optimizer='adam',metrics=['accuracy'])\n",
    "```\n",
    "It is basically a small multilayer perceptron with some BatchNorm and dropout for regalurization. \n",
    "We use [Elephas](https://github.com/maxpumperla/elephas) to connect our RDD data to Keras.\n",
    "You can run (if you have time to loose) this module using the jupyter command line (**be aware that it is  time consuming**).\n",
    "The fitted network has been saved in `/train/models/nn/ml_nn.pk`\n",
    "```shell\n",
    "cd train\n",
    "python3 -m train_nn\n",
    "```\n",
    "\n",
    "**We will analyze the result of this pipeline on the test set**"
   ]
  },
  {
   "cell_type": "code",
   "execution_count": 19,
   "id": "fc092765",
   "metadata": {},
   "outputs": [],
   "source": [
    "from tensorflow.keras import models\n",
    "# The model has been stored at a tf.\n",
    "# keras format\n",
    "keras_model = models.load_model(\"train\")\n",
    "keras_model.summary()\n",
    "# We re put it into a SparkMLlibModel\n",
    "keras_spark = SparkMLlibModel(model=keras_model, frequency='epoch', mode='asynchronous',parameter_server_mode='socket')"
   ]
  },
  {
   "cell_type": "code",
   "execution_count": 77,
   "id": "d8ff4cb0",
   "metadata": {},
   "outputs": [],
   "source": [
    "from pyspark.mllib.linalg import Vectors  as MLLibVectors\n",
    "# We do the same transformations as in the script for the test data\n",
    "# TF\n",
    "cv = sf.CountVectorizer(inputCol=\"text\", outputCol=\"tf_features\", vocabSize=input_dim)\n",
    "# IDF\n",
    "label_string= sf.StringIndexer(inputCol=\"first_label\", outputCol =\"label\")\n",
    "pipeline_dl = Pipeline(stages=[cv, idf, label_string])\n",
    "test_data = pipeline_dl.fit(train_split).transform(test_split)\n",
    "test_data = test_data.rdd.map(lambda x :( LabeledPoint(x['label'],MLLibVectors.fromML(x['features']))))"
   ]
  },
  {
   "cell_type": "code",
   "execution_count": null,
   "id": "63d028ce",
   "metadata": {},
   "outputs": [],
   "source": [
    "predictionAndLabels = preds_test.rdd.map(lambda lp: (float(keras_spark.predict(lp[1])), lp[0]))\n",
    "labels = preds_test.rdd.map(lambda lp: lp.label).distinct().collect()\n",
    "metrics_results, global_metrics, confusion_matrix = evaluation_metrics(predictionAndLabels, labels)"
   ]
  }
 ],
 "metadata": {
  "kernelspec": {
   "display_name": "Python 3",
   "language": "python",
   "name": "python3"
  },
  "language_info": {
   "codemirror_mode": {
    "name": "ipython",
    "version": 3
   },
   "file_extension": ".py",
   "mimetype": "text/x-python",
   "name": "python",
   "nbconvert_exporter": "python",
   "pygments_lexer": "ipython3",
   "version": "3.6.9"
  }
 },
 "nbformat": 4,
 "nbformat_minor": 5
}
